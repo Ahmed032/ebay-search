{
 "cells": [
  {
   "cell_type": "code",
   "execution_count": 1,
   "metadata": {},
   "outputs": [],
   "source": [
    "import requests\n",
    "from bs4 import BeautifulSoup\n",
    "import pandas as pd\n",
    "import re\n",
    "import urllib.request\n"
   ]
  },
  {
   "cell_type": "code",
   "execution_count": 2,
   "metadata": {},
   "outputs": [
    {
     "name": "stdout",
     "output_type": "stream",
     "text": [
      "<Response [200]>\n"
     ]
    },
    {
     "data": {
      "text/plain": [
       "bs4.BeautifulSoup"
      ]
     },
     "execution_count": 2,
     "metadata": {},
     "output_type": "execute_result"
    }
   ],
   "source": [
    "url = \"https://www.ebay.com/sch/i.html?_from=R40&_trksid=p2380057.m570.l1313&_nkw=goku&_sacat=0\"\n",
    "request = requests.get(url)\n",
    "print(request)\n",
    "soup = BeautifulSoup(request.text, 'html.parser')\n",
    "type(soup)"
   ]
  },
  {
   "cell_type": "code",
   "execution_count": 3,
   "metadata": {},
   "outputs": [],
   "source": [
    "results = soup.findAll(\"div\", {'class': \"s-item__wrapper clearfix\"})\n",
    "items = []\n",
    "for result in results[1:]:\n",
    "    productInfo = {}\n",
    "    \n",
    "    productInfo[\"title\"] = result.find('h3', {'class': 's-item__title'}).text.replace(\"New Listing\", '')\n",
    "\n",
    "    try:\n",
    "        productInfo[\"status\"] = result.find(\"div\", {'class': 's-item__subtitle'}).span.text\n",
    "    except:\n",
    "        print(\"OHHHHHHHHHHHHHHH\")\n",
    "\n",
    "\n",
    "    productInfo[\"price\"] = float(re.search(\"\\d+\\.\\d+\" ,result.find(\n",
    "        \"span\", {'class': 's-item__price'}).text).group().replace(\"$\", \"\"))\n",
    "   #got the minimum because it was a range\n",
    "    try:\n",
    "        productInfo[\"watchers\"] = int(re.search(r\"\\d+\", result.find(\n",
    "            \"span\", {'class': 'BOLD NEGATIVE'}).text).group())\n",
    "    except:\n",
    "        pass\n",
    "    try:\n",
    "        productInfo[\"country\"] = result.find(\"span\", {'class': 's-item__location s-item__itemLocation'}).text.replace(\n",
    "        \"from \", \"\")\n",
    "    except:\n",
    "        pass\n",
    "    items.append(productInfo)"
   ]
  },
  {
   "cell_type": "code",
   "execution_count": 6,
   "metadata": {},
   "outputs": [
    {
     "name": "stdout",
     "output_type": "stream",
     "text": [
      "Saved\n"
     ]
    }
   ],
   "source": [
    "itemsDF = pd.DataFrame(items)\n",
    "try:\n",
    "    itemsDF[\"watchers\"].fillna(0, inplace = True)\n",
    "except:\n",
    "    pass\n",
    "itemsDF.to_csv(\"ebay.csv\", index = False)\n",
    "print(\"Saved\")\n"
   ]
  },
  {
   "cell_type": "code",
   "execution_count": null,
   "metadata": {},
   "outputs": [],
   "source": []
  },
  {
   "cell_type": "code",
   "execution_count": null,
   "metadata": {},
   "outputs": [],
   "source": []
  }
 ],
 "metadata": {
  "kernelspec": {
   "display_name": "Python 3",
   "language": "python",
   "name": "python3"
  },
  "language_info": {
   "codemirror_mode": {
    "name": "ipython",
    "version": 3
   },
   "file_extension": ".py",
   "mimetype": "text/x-python",
   "name": "python",
   "nbconvert_exporter": "python",
   "pygments_lexer": "ipython3",
   "version": "3.8.3"
  }
 },
 "nbformat": 4,
 "nbformat_minor": 4
}
